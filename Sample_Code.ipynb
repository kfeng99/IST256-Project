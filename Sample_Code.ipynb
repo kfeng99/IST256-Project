{
 "cells": [
  {
   "cell_type": "code",
   "execution_count": null,
   "metadata": {},
   "outputs": [],
   "source": [
    "import folium\n",
    "import json\n",
    "import requests\n",
    "import geocoder\n",
    "from IPython.display import display, HTML"
   ]
  },
  {
   "cell_type": "code",
   "execution_count": null,
   "metadata": {},
   "outputs": [],
   "source": [
    "CLIENT_ID = \"O7rCPOsuUXYVr_N-n6gSGw\"\n",
    "API_KEY = \"mPNTc2aspvZn6I8Z2iv0-xBGVm7_I_XElUNxo1rSv0n_zL2nmfgsE1n9xDM2_mveYvjbUFwtxBBtvHAH_AIux-ULdXvletKhAwk0CR2cRO0Klnfe3WLUZlDGm2mfXnYx\""
   ]
  },
  {
   "cell_type": "code",
   "execution_count": null,
   "metadata": {},
   "outputs": [],
   "source": [
    "# API constants, shouldn't have to change these.\n",
    "API_HOST = 'https://api.yelp.com' #The API url header\n",
    "SEARCH_PATH = '/v3/businesses/search' #The path for an API request to find businesses\n",
    "BUSINESS_PATH = '/v3/businesses/'  # The path to get data for a single business"
   ]
  },
  {
   "cell_type": "code",
   "execution_count": null,
   "metadata": {},
   "outputs": [],
   "source": [
    "def get_color_for_rating(rating):\n",
    "    if rating >= 4.3:\n",
    "        return \"green\"\n",
    "    elif rating >= 3.5:\n",
    "        return \"orange\"\n",
    "    else:\n",
    "        return \"red\""
   ]
  },
  {
   "cell_type": "code",
   "execution_count": null,
   "metadata": {},
   "outputs": [],
   "source": [
    "def get_restaurants(term,location,number=1):\n",
    "    #First we get the access token\n",
    "    #Set up the search data dictionary\n",
    "    search_data = {\n",
    "    'term': term,\n",
    "    'location': location.replace(' ', '+'),\n",
    "    'limit': number\n",
    "    }\n",
    "    url = API_HOST + SEARCH_PATH\n",
    "    headers = {\n",
    "        'Authorization': 'Bearer %s' % API_KEY,\n",
    "    }\n",
    "    response = requests.request('GET', url, headers=headers, params=search_data).json()\n",
    "    businesses = response.get('businesses')\n",
    "    return businesses"
   ]
  },
  {
   "cell_type": "code",
   "execution_count": null,
   "metadata": {},
   "outputs": [],
   "source": [
    "while True:\n",
    "    display(HTML(\"<h1>Restaurant Search</h1>\"))\n",
    "    display(HTML(\"Enter a location, or type 'quit' to end this program\"))\n",
    "    location = input()\n",
    "    \n",
    "    if location.lower() == 'quit':\n",
    "        break\n",
    "    \n",
    "    display(HTML(f\"Enter a cuisine to search for in {location}\"))\n",
    "    term = input()\n",
    "    \n",
    "    results = get_restaurants(term,location)\n",
    "    geodata = geocoder.osm(location)\n",
    "    foodmap = folium.Map(location = (geodata.lat, geodata.lng), zoom_start = 12)\n",
    "    \n",
    "    for rest in results:\n",
    "        name = rest['name']\n",
    "        lat = rest['coordinates']['latitude']\n",
    "        lng = rest['coordinates']['longitude']\n",
    "        rating = rest['rating']\n",
    "        phone = rest['phone']\n",
    "        text = f\"{name} rating: {rating} phone number: {phone}\"\n",
    "        marker = folium.Marker(location = (lat, lng), popup = text, icon = folium.Icon(color = get_color_for_rating(rating)))\n",
    "        foodmap.add_children(marker)\n",
    "        \n",
    "    display(foodmap)"
   ]
  }
 ],
 "metadata": {
  "kernelspec": {
   "display_name": "Python 3",
   "language": "python",
   "name": "python3"
  },
  "language_info": {
   "codemirror_mode": {
    "name": "ipython",
    "version": 3
   },
   "file_extension": ".py",
   "mimetype": "text/x-python",
   "name": "python",
   "nbconvert_exporter": "python",
   "pygments_lexer": "ipython3",
   "version": "3.7.3"
  }
 },
 "nbformat": 4,
 "nbformat_minor": 2
}
